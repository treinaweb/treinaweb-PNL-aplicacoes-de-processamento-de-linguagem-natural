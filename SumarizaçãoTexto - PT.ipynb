{
 "cells": [
  {
   "cell_type": "code",
   "execution_count": 1,
   "id": "589dd3f4",
   "metadata": {},
   "outputs": [
    {
     "name": "stdout",
     "output_type": "stream",
     "text": [
      "Requirement already satisfied: goose3 in c:\\users\\rodri\\anaconda3\\lib\\site-packages (3.1.11)\n",
      "Requirement already satisfied: langdetect in c:\\users\\rodri\\anaconda3\\lib\\site-packages (from goose3) (1.0.9)\n",
      "Requirement already satisfied: beautifulsoup4 in c:\\users\\rodri\\anaconda3\\lib\\site-packages (from goose3) (4.11.1)\n",
      "Requirement already satisfied: python-dateutil in c:\\users\\rodri\\anaconda3\\lib\\site-packages (from goose3) (2.8.2)\n",
      "Requirement already satisfied: cssselect in c:\\users\\rodri\\anaconda3\\lib\\site-packages (from goose3) (1.1.0)\n",
      "Requirement already satisfied: lxml in c:\\users\\rodri\\anaconda3\\lib\\site-packages (from goose3) (4.8.0)\n",
      "Requirement already satisfied: jieba in c:\\users\\rodri\\anaconda3\\lib\\site-packages (from goose3) (0.42.1)\n",
      "Requirement already satisfied: requests in c:\\users\\rodri\\anaconda3\\lib\\site-packages (from goose3) (2.27.1)\n",
      "Requirement already satisfied: Pillow in c:\\users\\rodri\\anaconda3\\lib\\site-packages (from goose3) (9.0.1)\n",
      "Requirement already satisfied: nltk in c:\\users\\rodri\\anaconda3\\lib\\site-packages (from goose3) (3.7)\n",
      "Requirement already satisfied: soupsieve>1.2 in c:\\users\\rodri\\anaconda3\\lib\\site-packages (from beautifulsoup4->goose3) (2.3.1)\n",
      "Requirement already satisfied: six in c:\\users\\rodri\\anaconda3\\lib\\site-packages (from langdetect->goose3) (1.16.0)\n",
      "Requirement already satisfied: click in c:\\users\\rodri\\anaconda3\\lib\\site-packages (from nltk->goose3) (8.1.3)\n",
      "Requirement already satisfied: tqdm in c:\\users\\rodri\\anaconda3\\lib\\site-packages (from nltk->goose3) (4.64.0)\n",
      "Requirement already satisfied: joblib in c:\\users\\rodri\\anaconda3\\lib\\site-packages (from nltk->goose3) (1.1.0)\n",
      "Requirement already satisfied: regex>=2021.8.3 in c:\\users\\rodri\\anaconda3\\lib\\site-packages (from nltk->goose3) (2022.3.15)\n",
      "Requirement already satisfied: colorama in c:\\users\\rodri\\anaconda3\\lib\\site-packages (from click->nltk->goose3) (0.4.4)\n",
      "Requirement already satisfied: idna<4,>=2.5 in c:\\users\\rodri\\anaconda3\\lib\\site-packages (from requests->goose3) (2.10)\n",
      "Requirement already satisfied: certifi>=2017.4.17 in c:\\users\\rodri\\anaconda3\\lib\\site-packages (from requests->goose3) (2022.6.15)\n",
      "Requirement already satisfied: charset-normalizer~=2.0.0 in c:\\users\\rodri\\anaconda3\\lib\\site-packages (from requests->goose3) (2.0.4)\n",
      "Requirement already satisfied: urllib3<1.27,>=1.21.1 in c:\\users\\rodri\\anaconda3\\lib\\site-packages (from requests->goose3) (1.26.9)\n"
     ]
    }
   ],
   "source": [
    "!pip install goose3"
   ]
  },
  {
   "cell_type": "code",
   "execution_count": 2,
   "id": "1c213a66",
   "metadata": {},
   "outputs": [
    {
     "name": "stderr",
     "output_type": "stream",
     "text": [
      "[nltk_data] Downloading package punkt to\n",
      "[nltk_data]     C:\\Users\\rodri\\AppData\\Roaming\\nltk_data...\n",
      "[nltk_data]   Package punkt is already up-to-date!\n"
     ]
    },
    {
     "data": {
      "text/plain": [
       "True"
      ]
     },
     "execution_count": 2,
     "metadata": {},
     "output_type": "execute_result"
    }
   ],
   "source": [
    "from goose3 import Goose\n",
    "import nltk\n",
    "nltk.download('punkt')"
   ]
  },
  {
   "cell_type": "code",
   "execution_count": 3,
   "id": "215c5859",
   "metadata": {},
   "outputs": [],
   "source": [
    "g = Goose()\n",
    "url = 'https://www.cnnbrasil.com.br/politica/sudeste-e-batalhas-judiciais-ganham-atencao-dos-presidenciaveis-na-1a-semana-de-campanha/'"
   ]
  },
  {
   "cell_type": "code",
   "execution_count": 4,
   "id": "20d3c103",
   "metadata": {},
   "outputs": [],
   "source": [
    "noticia = g.extract(url)"
   ]
  },
  {
   "cell_type": "code",
   "execution_count": 5,
   "id": "019056cc",
   "metadata": {},
   "outputs": [
    {
     "data": {
      "text/plain": [
       "<goose3.article.Article at 0x2d7ed434520>"
      ]
     },
     "execution_count": 5,
     "metadata": {},
     "output_type": "execute_result"
    }
   ],
   "source": [
    "noticia"
   ]
  },
  {
   "cell_type": "code",
   "execution_count": 6,
   "id": "3d74a913",
   "metadata": {},
   "outputs": [
    {
     "data": {
      "text/plain": [
       "'Sudeste e batalhas judiciais ganham atenção dos presidenciáveis na 1ª semana de campanha'"
      ]
     },
     "execution_count": 6,
     "metadata": {},
     "output_type": "execute_result"
    }
   ],
   "source": [
    "noticia.title"
   ]
  },
  {
   "cell_type": "code",
   "execution_count": 7,
   "id": "e0b4e49f",
   "metadata": {},
   "outputs": [
    {
     "data": {
      "text/plain": [
       "'Sudeste e batalhas judiciais ganham atenção dos presidenciáveis na 1ª semana de campanha. Clique e acesse a matéria na íntegra na CNN Brasil.'"
      ]
     },
     "execution_count": 7,
     "metadata": {},
     "output_type": "execute_result"
    }
   ],
   "source": [
    "noticia.meta_description"
   ]
  },
  {
   "cell_type": "code",
   "execution_count": 8,
   "id": "9f46590a",
   "metadata": {},
   "outputs": [
    {
     "data": {
      "text/plain": [
       "['wellingtonramalhoso']"
      ]
     },
     "execution_count": 8,
     "metadata": {},
     "output_type": "execute_result"
    }
   ],
   "source": [
    "noticia.authors"
   ]
  },
  {
   "cell_type": "code",
   "execution_count": 9,
   "id": "3dc7a9d5",
   "metadata": {},
   "outputs": [
    {
     "data": {
      "text/plain": [
       "['https://www.cnnbrasil.com.br/tudo-sobre/eleicoes-presidenciais/',\n",
       " 'https://www.cnnbrasil.com.br/agregador-de-pesquisas-eleitorais-presidente/',\n",
       " 'https://www.cnnbrasil.com.br/politica/pesquisa-datafolha-para-presidente-lula-tem-47-bolsonaro-32/',\n",
       " ' https://www.cnnbrasil.com.br/politica/campanha-de-lula-busca-atrair-evangelicos-bolsonaro-aposta-em-antipetismo/',\n",
       " ' https://www.cnnbrasil.com.br/politica/pdt-contrata-pesquisa-qualitativa-para-direcionar-discurso-de-ciro/',\n",
       " ' https://www.cnnbrasil.com.br/politica/mdb-mobilizara-prefeitos-do-partido-para-tentar-alavancar-candidatura-de-tebet/',\n",
       " 'https://flipboard.com']"
      ]
     },
     "execution_count": 9,
     "metadata": {},
     "output_type": "execute_result"
    }
   ],
   "source": [
    "noticia.links"
   ]
  },
  {
   "cell_type": "code",
   "execution_count": 10,
   "id": "ef56f4bd",
   "metadata": {},
   "outputs": [
    {
     "data": {
      "text/plain": [
       "'Os quatro candidatos a presidente mais bem colocados intensificam agendas na região mais populosa do país; decisões judiciais também movimentam campanha\\n\\nNa primeira semana oficial de campanha nas eleições de 2022, os quatro candidatos a presidente mais bem colocados – Luiz Inácio Lula da Silva (PT), Jair Bolsonaro (PL), Ciro Gomes (PDT) e Simone Tebet (MDB) –, segundo o agregador de pesquisas CNN/Locomotiva, intensificaram as agendas, com foco no Sudeste, a região do país com mais eleitores.\\n\\nCiro Gomes e Simone Tebet tentam evitar o enfraquecimento de suas candidaturas e a perda de votos para Lula e Bolsonaro, que lideram a preferência dos eleitores.\\n\\nNa pesquisa presidencial mais recente, o Datafolha apontou na última quinta-feira (18) que Lula está à frente, com 47% das intenções de voto, seguido de Bolsonaro com 32%, enquanto Ciro tem 7%; e Simone Tebet, 2%.\\n\\nA disputa também se intensificou na Justiça. Ciro Gomes protocolou, na sexta-feira (19), um pedido para que o Tribunal Superior Eleitoral (TSE) declare a inelegibilidade de Bolsonaro. No sábado (20), a corte negou pedido de Lula para apagar postagens do presidente sobre o PCC.\\n\\nO Judiciário foi protagonista em outras frentes. Na quinta (18), o Ministério Público Eleitoral (MPE) pediu que a candidatura de Roberto Jefferson (PTB) à Presidência seja impugnada. No sábado, o ministro Gilmar Mendes, do Supremo Tribunal Federal (STF), decidiu que a competência para julgar a disputa interna pelo comando do Pros, que lançou o candidato Pablo Marçal, é do TSE.\\n\\nAlém disso, a campanha começou com a presença dos quatro candidatos na posse do ministro Alexandre de Moraes como presidente do TSE na última terça (16).\\n\\nA posse de Moraes colocou Bolsonaro e Lula frente a frente durante a cerimônia. O atual presidente ocupou a tribuna de honra, enquanto o petista ficou na plateia, ao lado dos também ex-presidentes Michel Temer, Dilma Rousseff e José Sarney.\\n\\nAo comentar o encontro, o petista disse que não “encontrou com Bolsonaro” e que apenas estava no “mesmo espaço físico” dele. Afirmou ter percebido o atual presidente “muito incomodado” e que Bolsonaro não aplaudiu parte dos discursos, como a defesa que Moraes fez das urnas eletrônicas e do sistema eleitoral.\\n\\nPor outro lado, o petista não saudou a entrada de Bolsonaro no evento.\\n\\nA CNN entrou em contato com a assessoria do Planalto para que Bolsonaro comentasse as declarações do ex-presidente, mas não obteve resposta.\\n\\nLogo após assinar o termo de posse, Alexandre de Moraes apertou a mão de Bolsonaro. Os dois se sentaram lado a lado na tribuna e cochicharam por várias vezes.\\n\\nLula abriu sua campanha, na terça-feira (16), na fábrica da Volkswagen, em São Bernardo do Campo, no ABC Paulista, região onde iniciou sua trajetória política como presidente do Sindicato dos Metalúrgicos.\\n\\nNa quarta (17), Lula se reuniu com empresários em um hotel em São Paulo e prometeu criar ministérios, como o Pequena e Médio Empresa e o dos Povos Originários.\\n\\nEm uma entrevista para uma rádio, o petista defendeu mudanças na Lei da Ficha Limpa e disse que, se eleito, irá dialogar com o Centrão.\\n\\nNa quinta (18), o ex-presidente participou de um ato em defesa da democracia no centro de Belo Horizonte (MG).\\n\\nNo sábado, o candidato criticou, durante comício no Vale do Anhangabaú, no centro de São Paulo, os que fazem da igreja “um palanque político ou uma empresa para ganhar dinheiro”. Ele voltou a defender o reajuste da tabela de Imposto de Renda e a tributação de dividendos empresariais.\\n\\nEm sua estreia na campanha, na terça, o presidente Jair Bolsonaro (PL) voltou a Juiz de Fora (MG), onde foi vítima de uma facada na campanha de 2018, e discursou para apoiadores. No dia seguinte, participou de um encontro com prefeitos em um hotel em Brasília e prometeu um reajuste para os servidores públicos federais no ano que vem.\\n\\nNa quinta, o presidente participou de um comício em São José dos Campos, no interior de São Paulo. Na cidade, ele participou do lançamento da candidatura de Tarcísio de Freitas (Republicanos) ao governo paulista.\\n\\nNo sábado, Bolsonaro foi a uma cerimônia militar no sul do Estado do Rio de Janeiro, saudou apoiadores nas margens da rodovia Presidente Dutra e falou sobre sua tentativa de reeleição.\\n\\n“Passaram agora mais de 1.000 motos em apoio à gente. A gente fica muito feliz com essa manifestação espontânea por parte da população. E a gente está nesta empreitada buscando a reeleição, se esse for o seu entendimento. Caso contrário, a gente respeita. Mas a nossa democracia, nossa liberdade, acima de tudo”, afirmou.\\n\\nNo primeiro dia de campanha, Ciro Gomes participou de uma caminhada em São Paulo. Aos presentes, o pedetista discursou sobre seu projeto de renda mínima, batizado por ele de “Eduardo Suplicy” em homenagem ao ex-senador petista.\\n\\nNa quarta, o candidato do PDT foi a Santana de Parnaíba, na Grande São Paulo, acompanhado de Elvis Cezar, candidato do partido ao governo paulista. No dia seguinte (18), Ciro participou de sabatina na Associação Comercial de São Paulo e disse que pretende implementar um imposto único.\\n\\n“Só o Brasil tem seis impostos, seis tributos sobre valor adicionado. Aqui no Brasil seria o IVA, é o que eu proponho.”\\n\\nNa sexta (19), o ex-ministro visitou a fábrica da Cobrasma, no centro de Osasco. Ele afirmou que irá dialogar com “quem o povo eleger” para o Congresso e que “a base do diálogo não será corrupção nem a fisiologia”\\n\\nNo sábado, o candidato contestou o tamanho do lucro da Petrobras e o pagamento de dividendos aos acionistas, durante ato de campanha no Rio de Janeiro. Neste domingo, Ciro Gomes participou, em Fortaleza, do lançamento da campanha de Antônio Henrique a deputado estadual pelo PDT no Ceará.\\n\\nA senadora Simone Tebet, na terça (16), participou de um encontro com representantes do setor cultural e disse que, em seu eventual governo, “a cultura vai ter o status e o carinho e a importância que ela merece”.\\n\\nNa quarta, visitou uma creche em Brasília. No local, prometeu trabalhar para “concluir todas as escolas e creches inacabadas”. A senadora ainda defendeu um cuidado especial com o ensino médio.\\n\\nNo dia seguinte, participou de uma sabatina realizada pela Ordem dos Advogados do Brasil (OAB), em São Paulo. Ela fez críticas ao “orçamento secreto” e afirmou que pretende acabar com esse mecanismo de repasse de verbas a parlamentares.\\n\\nNa sexta, Tebet fez caminhadas em Diadema e Santo André, no ABC Paulista. No sábado, a emedebista esteve com o governador de São Paulo, Rodrigo Garcia (PSDB), candidato à reeleição.\\n\\nNo encontro, criticou Lula e Bolsonaro por não confirmarem presença nos debates da campanha eleitoral. Neste domingo (21), se reuniu com integrantes do Movimento Sem Teto do Ipiranga (MSTI), na zona sul de São Paulo, e prometeu construir casas para a camada mais pobre da população.\\n\\nAs emissoras CNN e SBT, o jornal O Estado de S. Paulo, a revista Veja, o portal Terra e a rádio NovaBrasilFM formaram um pool para realizar o debate entre os candidatos à Presidência da República, que acontecerá no dia 24 de setembro.\\n\\nO debate será transmitido ao vivo pela CNN na TV e por nossas plataformas digitais.'"
      ]
     },
     "execution_count": 10,
     "metadata": {},
     "output_type": "execute_result"
    }
   ],
   "source": [
    "noticia.cleaned_text"
   ]
  },
  {
   "cell_type": "code",
   "execution_count": 11,
   "id": "1ab2bf81",
   "metadata": {},
   "outputs": [],
   "source": [
    "from sumy.parsers.plaintext import PlaintextParser\n",
    "from sumy.nlp.tokenizers import Tokenizer\n",
    "from sumy.summarizers.luhn import LuhnSummarizer"
   ]
  },
  {
   "cell_type": "code",
   "execution_count": 12,
   "id": "5f6a223c",
   "metadata": {},
   "outputs": [],
   "source": [
    "parser = PlaintextParser.from_string(noticia.cleaned_text, Tokenizer('portuguese'))\n",
    "sumarizador = LuhnSummarizer()"
   ]
  },
  {
   "cell_type": "code",
   "execution_count": 13,
   "id": "3bdbc324",
   "metadata": {},
   "outputs": [
    {
     "data": {
      "text/plain": [
       "<DOM with 33 paragraphs>"
      ]
     },
     "execution_count": 13,
     "metadata": {},
     "output_type": "execute_result"
    }
   ],
   "source": [
    "parser.document"
   ]
  },
  {
   "cell_type": "code",
   "execution_count": 14,
   "id": "3d643742",
   "metadata": {},
   "outputs": [],
   "source": [
    "resumo = sumarizador(parser.document, 5)"
   ]
  },
  {
   "cell_type": "code",
   "execution_count": 15,
   "id": "453dce2f",
   "metadata": {},
   "outputs": [
    {
     "data": {
      "text/plain": [
       "(<Sentence: Na primeira semana oficial de campanha nas eleições de 2022, os quatro candidatos a presidente mais bem colocados – Luiz Inácio Lula da Silva (PT), Jair Bolsonaro (PL), Ciro Gomes (PDT) e Simone Tebet (MDB) –, segundo o agregador de pesquisas CNN/Locomotiva, intensificaram as agendas, com foco no Sudeste, a região do país com mais eleitores.>,\n",
       " <Sentence: Além disso, a campanha começou com a presença dos quatro candidatos na posse do ministro Alexandre de Moraes como presidente do TSE na última terça (16).>,\n",
       " <Sentence: Em sua estreia na campanha, na terça, o presidente Jair Bolsonaro (PL) voltou a Juiz de Fora (MG), onde foi vítima de uma facada na campanha de 2018, e discursou para apoiadores.>,\n",
       " <Sentence: No sábado, Bolsonaro foi a uma cerimônia militar no sul do Estado do Rio de Janeiro, saudou apoiadores nas margens da rodovia Presidente Dutra e falou sobre sua tentativa de reeleição.>,\n",
       " <Sentence: A senadora Simone Tebet, na terça (16), participou de um encontro com representantes do setor cultural e disse que, em seu eventual governo, “a cultura vai ter o status e o carinho e a importância que ela merece”.>)"
      ]
     },
     "execution_count": 15,
     "metadata": {},
     "output_type": "execute_result"
    }
   ],
   "source": [
    "resumo"
   ]
  },
  {
   "cell_type": "code",
   "execution_count": 16,
   "id": "d1785cb9",
   "metadata": {},
   "outputs": [
    {
     "name": "stdout",
     "output_type": "stream",
     "text": [
      "Na primeira semana oficial de campanha nas eleições de 2022, os quatro candidatos a presidente mais bem colocados – Luiz Inácio Lula da Silva (PT), Jair Bolsonaro (PL), Ciro Gomes (PDT) e Simone Tebet (MDB) –, segundo o agregador de pesquisas CNN/Locomotiva, intensificaram as agendas, com foco no Sudeste, a região do país com mais eleitores.\n",
      "Além disso, a campanha começou com a presença dos quatro candidatos na posse do ministro Alexandre de Moraes como presidente do TSE na última terça (16).\n",
      "Em sua estreia na campanha, na terça, o presidente Jair Bolsonaro (PL) voltou a Juiz de Fora (MG), onde foi vítima de uma facada na campanha de 2018, e discursou para apoiadores.\n",
      "No sábado, Bolsonaro foi a uma cerimônia militar no sul do Estado do Rio de Janeiro, saudou apoiadores nas margens da rodovia Presidente Dutra e falou sobre sua tentativa de reeleição.\n",
      "A senadora Simone Tebet, na terça (16), participou de um encontro com representantes do setor cultural e disse que, em seu eventual governo, “a cultura vai ter o status e o carinho e a importância que ela merece”.\n"
     ]
    }
   ],
   "source": [
    "for sent in resumo:\n",
    "    print(sent)"
   ]
  },
  {
   "cell_type": "code",
   "execution_count": null,
   "id": "9cf51afb",
   "metadata": {},
   "outputs": [],
   "source": []
  }
 ],
 "metadata": {
  "kernelspec": {
   "display_name": "Python 3 (ipykernel)",
   "language": "python",
   "name": "python3"
  },
  "language_info": {
   "codemirror_mode": {
    "name": "ipython",
    "version": 3
   },
   "file_extension": ".py",
   "mimetype": "text/x-python",
   "name": "python",
   "nbconvert_exporter": "python",
   "pygments_lexer": "ipython3",
   "version": "3.9.12"
  }
 },
 "nbformat": 4,
 "nbformat_minor": 5
}
