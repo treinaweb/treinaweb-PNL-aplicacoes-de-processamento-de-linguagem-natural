{
 "cells": [
  {
   "cell_type": "code",
   "execution_count": 1,
   "id": "b23bad80",
   "metadata": {},
   "outputs": [
    {
     "name": "stderr",
     "output_type": "stream",
     "text": [
      "[nltk_data] Downloading package punkt to\n",
      "[nltk_data]     C:\\Users\\rodri\\AppData\\Roaming\\nltk_data...\n",
      "[nltk_data]   Package punkt is already up-to-date!\n"
     ]
    },
    {
     "data": {
      "text/plain": [
       "True"
      ]
     },
     "execution_count": 1,
     "metadata": {},
     "output_type": "execute_result"
    }
   ],
   "source": [
    "from goose3 import Goose\n",
    "import nltk\n",
    "nltk.download('punkt')"
   ]
  },
  {
   "cell_type": "code",
   "execution_count": 2,
   "id": "3e0627d8",
   "metadata": {},
   "outputs": [],
   "source": [
    "g = Goose()\n",
    "url = 'https://g1.globo.com/mundo/noticia/2022/08/21/como-funcionam-os-relogios-atomicos-sem-os-quais-o-mundo-moderno-afundaria-no-caos.ghtml'"
   ]
  },
  {
   "cell_type": "code",
   "execution_count": 3,
   "id": "db61bc76",
   "metadata": {},
   "outputs": [],
   "source": [
    "noticia = g.extract(url)"
   ]
  },
  {
   "cell_type": "code",
   "execution_count": 4,
   "id": "795be150",
   "metadata": {},
   "outputs": [
    {
     "data": {
      "text/plain": [
       "<goose3.article.Article at 0x14f4700c520>"
      ]
     },
     "execution_count": 4,
     "metadata": {},
     "output_type": "execute_result"
    }
   ],
   "source": [
    "noticia"
   ]
  },
  {
   "cell_type": "code",
   "execution_count": 5,
   "id": "85a95142",
   "metadata": {},
   "outputs": [
    {
     "data": {
      "text/plain": [
       "'Como funcionam os relógios atômicos, sem os quais o mundo moderno afundaria no caos'"
      ]
     },
     "execution_count": 5,
     "metadata": {},
     "output_type": "execute_result"
    }
   ],
   "source": [
    "noticia.title"
   ]
  },
  {
   "cell_type": "code",
   "execution_count": 6,
   "id": "9069b7b0",
   "metadata": {},
   "outputs": [
    {
     "data": {
      "text/plain": [
       "'Como medir o tempo com precisão? É uma questão mais complexa do que parece.'"
      ]
     },
     "execution_count": 6,
     "metadata": {},
     "output_type": "execute_result"
    }
   ],
   "source": [
    "noticia.meta_description"
   ]
  },
  {
   "cell_type": "code",
   "execution_count": 7,
   "id": "702cfe6e",
   "metadata": {},
   "outputs": [
    {
     "data": {
      "text/plain": [
       "['https://g1.globo.com/especiais/guia-de-compras/noticia/2022/01/11/qual-smartwatch-comprar-g1-testa-os-relogios-inteligentes.ghtml',\n",
       " 'https://g1.globo.com/especiais/guia-de-compras/noticia/2022/01/11/qual-smartwatch-comprar-g1-testa-os-relogios-inteligentes.ghtml',\n",
       " 'https://www.bbc.com/portuguese/vert-fut-62404690']"
      ]
     },
     "execution_count": 7,
     "metadata": {},
     "output_type": "execute_result"
    }
   ],
   "source": [
    "noticia.links"
   ]
  },
  {
   "cell_type": "code",
   "execution_count": 8,
   "id": "7a0d33f4",
   "metadata": {},
   "outputs": [
    {
     "data": {
      "text/plain": [
       "['']"
      ]
     },
     "execution_count": 8,
     "metadata": {},
     "output_type": "execute_result"
    }
   ],
   "source": [
    "noticia.authors"
   ]
  },
  {
   "cell_type": "code",
   "execution_count": 9,
   "id": "0a09b5f5",
   "metadata": {},
   "outputs": [
    {
     "data": {
      "text/plain": [
       "'Como medir o tempo com precisão? É uma questão mais complexa do que parece — Foto: Getty Images\\n\\n1 de 6 Como medir o tempo com precisão? É uma questão mais complexa do que parece — Foto: Getty Images\\n\\nEm um laboratório em Londres, existe uma caixa preta alta sobre rodas, montada em um invólucro protetor de aço. Nela, há um aviso que diz: \"Não toque no maser\" .'"
      ]
     },
     "execution_count": 9,
     "metadata": {},
     "output_type": "execute_result"
    }
   ],
   "source": [
    "noticia.cleaned_text"
   ]
  },
  {
   "cell_type": "code",
   "execution_count": 10,
   "id": "432109e1",
   "metadata": {},
   "outputs": [],
   "source": [
    "from sumy.parsers.plaintext import PlaintextParser\n",
    "from sumy.nlp.tokenizers import Tokenizer\n",
    "from sumy.summarizers.luhn import LuhnSummarizer"
   ]
  },
  {
   "cell_type": "code",
   "execution_count": 11,
   "id": "38fd1741",
   "metadata": {},
   "outputs": [],
   "source": [
    "parser = PlaintextParser.from_string(noticia.cleaned_text, Tokenizer('portuguese'))\n",
    "sumarizador = LuhnSummarizer()"
   ]
  },
  {
   "cell_type": "code",
   "execution_count": 12,
   "id": "e27e8d30",
   "metadata": {},
   "outputs": [
    {
     "data": {
      "text/plain": [
       "<DOM with 3 paragraphs>"
      ]
     },
     "execution_count": 12,
     "metadata": {},
     "output_type": "execute_result"
    }
   ],
   "source": [
    "parser.document"
   ]
  },
  {
   "cell_type": "code",
   "execution_count": 13,
   "id": "0d6e3961",
   "metadata": {},
   "outputs": [],
   "source": [
    "resumo = sumarizador(parser.document, 1)"
   ]
  },
  {
   "cell_type": "code",
   "execution_count": 14,
   "id": "a08ace30",
   "metadata": {},
   "outputs": [
    {
     "name": "stdout",
     "output_type": "stream",
     "text": [
      "(<Sentence: É uma questão mais complexa do que parece — Foto: Getty Images>,)\n"
     ]
    }
   ],
   "source": [
    "for sent in resumo:\n",
    "    print(resumo)"
   ]
  },
  {
   "cell_type": "code",
   "execution_count": null,
   "id": "47133ce4",
   "metadata": {},
   "outputs": [],
   "source": []
  }
 ],
 "metadata": {
  "kernelspec": {
   "display_name": "Python 3 (ipykernel)",
   "language": "python",
   "name": "python3"
  },
  "language_info": {
   "codemirror_mode": {
    "name": "ipython",
    "version": 3
   },
   "file_extension": ".py",
   "mimetype": "text/x-python",
   "name": "python",
   "nbconvert_exporter": "python",
   "pygments_lexer": "ipython3",
   "version": "3.9.12"
  }
 },
 "nbformat": 4,
 "nbformat_minor": 5
}
