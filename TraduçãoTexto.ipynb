{
 "cells": [
  {
   "cell_type": "code",
   "execution_count": 1,
   "id": "bf389273",
   "metadata": {},
   "outputs": [
    {
     "name": "stdout",
     "output_type": "stream",
     "text": [
      "Requirement already satisfied: googletrans==4.0.0rc1 in c:\\users\\rodri\\anaconda3\\lib\\site-packages (4.0.0rc1)\n",
      "Requirement already satisfied: httpx==0.13.3 in c:\\users\\rodri\\anaconda3\\lib\\site-packages (from googletrans==4.0.0rc1) (0.13.3)\n",
      "Requirement already satisfied: idna==2.* in c:\\users\\rodri\\anaconda3\\lib\\site-packages (from httpx==0.13.3->googletrans==4.0.0rc1) (2.10)\n",
      "Requirement already satisfied: rfc3986<2,>=1.3 in c:\\users\\rodri\\anaconda3\\lib\\site-packages (from httpx==0.13.3->googletrans==4.0.0rc1) (1.5.0)\n",
      "Requirement already satisfied: certifi in c:\\users\\rodri\\anaconda3\\lib\\site-packages (from httpx==0.13.3->googletrans==4.0.0rc1) (2022.6.15)\n",
      "Requirement already satisfied: httpcore==0.9.* in c:\\users\\rodri\\anaconda3\\lib\\site-packages (from httpx==0.13.3->googletrans==4.0.0rc1) (0.9.1)\n",
      "Requirement already satisfied: chardet==3.* in c:\\users\\rodri\\anaconda3\\lib\\site-packages (from httpx==0.13.3->googletrans==4.0.0rc1) (3.0.4)\n",
      "Requirement already satisfied: hstspreload in c:\\users\\rodri\\anaconda3\\lib\\site-packages (from httpx==0.13.3->googletrans==4.0.0rc1) (2022.8.1)\n",
      "Requirement already satisfied: sniffio in c:\\users\\rodri\\anaconda3\\lib\\site-packages (from httpx==0.13.3->googletrans==4.0.0rc1) (1.2.0)\n",
      "Requirement already satisfied: h2==3.* in c:\\users\\rodri\\anaconda3\\lib\\site-packages (from httpcore==0.9.*->httpx==0.13.3->googletrans==4.0.0rc1) (3.2.0)\n",
      "Requirement already satisfied: h11<0.10,>=0.8 in c:\\users\\rodri\\anaconda3\\lib\\site-packages (from httpcore==0.9.*->httpx==0.13.3->googletrans==4.0.0rc1) (0.9.0)\n",
      "Requirement already satisfied: hpack<4,>=3.0 in c:\\users\\rodri\\anaconda3\\lib\\site-packages (from h2==3.*->httpcore==0.9.*->httpx==0.13.3->googletrans==4.0.0rc1) (3.0.0)\n",
      "Requirement already satisfied: hyperframe<6,>=5.2.0 in c:\\users\\rodri\\anaconda3\\lib\\site-packages (from h2==3.*->httpcore==0.9.*->httpx==0.13.3->googletrans==4.0.0rc1) (5.2.0)\n"
     ]
    }
   ],
   "source": [
    "!pip install googletrans==4.0.0rc1"
   ]
  },
  {
   "cell_type": "code",
   "execution_count": 2,
   "id": "42ae16f9",
   "metadata": {},
   "outputs": [],
   "source": [
    "from googletrans import Translator"
   ]
  },
  {
   "cell_type": "code",
   "execution_count": 3,
   "id": "66b98c34",
   "metadata": {},
   "outputs": [],
   "source": [
    "tradutor = Translator()"
   ]
  },
  {
   "cell_type": "code",
   "execution_count": 4,
   "id": "9efb8713",
   "metadata": {},
   "outputs": [],
   "source": [
    "detecção = tradutor.detect(\"A melhor forma de prever o futuro é criá-lo?\")"
   ]
  },
  {
   "cell_type": "code",
   "execution_count": 5,
   "id": "d1387dd0",
   "metadata": {},
   "outputs": [
    {
     "name": "stdout",
     "output_type": "stream",
     "text": [
      "Detected(lang=pt, confidence=None)\n"
     ]
    }
   ],
   "source": [
    "print(detecção)"
   ]
  },
  {
   "cell_type": "code",
   "execution_count": 6,
   "id": "49c7bd14",
   "metadata": {},
   "outputs": [],
   "source": [
    "detecção2 = tradutor.detect(\"What is your name?\")"
   ]
  },
  {
   "cell_type": "code",
   "execution_count": 7,
   "id": "e98fad48",
   "metadata": {},
   "outputs": [
    {
     "name": "stdout",
     "output_type": "stream",
     "text": [
      "Detected(lang=en, confidence=None)\n"
     ]
    }
   ],
   "source": [
    "print(detecção2)"
   ]
  },
  {
   "cell_type": "code",
   "execution_count": 8,
   "id": "d6c1b665",
   "metadata": {},
   "outputs": [],
   "source": [
    "tradução = tradutor.translate(\"Estamos aprendendo Processamento de Linguagem Natural\", dest='en')"
   ]
  },
  {
   "cell_type": "code",
   "execution_count": 9,
   "id": "e1068f95",
   "metadata": {},
   "outputs": [
    {
     "name": "stdout",
     "output_type": "stream",
     "text": [
      "Translated(src=pt, dest=en, text=We are learning natural language processing, pronunciation=None, extra_data=\"{'confiden...\")\n"
     ]
    }
   ],
   "source": [
    "print(tradução)"
   ]
  },
  {
   "cell_type": "code",
   "execution_count": 10,
   "id": "9380f20b",
   "metadata": {},
   "outputs": [],
   "source": [
    "tradução2 = tradutor.translate(\"Estamos aprendendo Processamento de Linguagem Natural\", dest='es')"
   ]
  },
  {
   "cell_type": "code",
   "execution_count": 11,
   "id": "95a54858",
   "metadata": {},
   "outputs": [
    {
     "name": "stdout",
     "output_type": "stream",
     "text": [
      "Translated(src=pt, dest=es, text=Estamos aprendiendo procesamiento del lenguaje natural, pronunciation=None, extra_data=\"{'confiden...\")\n"
     ]
    }
   ],
   "source": [
    "print(tradução2)"
   ]
  },
  {
   "cell_type": "code",
   "execution_count": 12,
   "id": "5fae80d6",
   "metadata": {},
   "outputs": [],
   "source": [
    "tradução3 = tradutor.translate(\"Estamos aprendendo Processamento de Linguagem Natural\", dest='ja')"
   ]
  },
  {
   "cell_type": "code",
   "execution_count": 13,
   "id": "64f6ff2d",
   "metadata": {},
   "outputs": [
    {
     "name": "stdout",
     "output_type": "stream",
     "text": [
      "Translated(src=pt, dest=ja, text=私たちは自然言語処理を学んでいます, pronunciation=Watashitachi wa shizen gengo shori o manande imasu, extra_data=\"{'confiden...\")\n"
     ]
    }
   ],
   "source": [
    "print(tradução3)"
   ]
  },
  {
   "cell_type": "code",
   "execution_count": null,
   "id": "0f0ec06b",
   "metadata": {},
   "outputs": [],
   "source": []
  }
 ],
 "metadata": {
  "kernelspec": {
   "display_name": "Python 3 (ipykernel)",
   "language": "python",
   "name": "python3"
  },
  "language_info": {
   "codemirror_mode": {
    "name": "ipython",
    "version": 3
   },
   "file_extension": ".py",
   "mimetype": "text/x-python",
   "name": "python",
   "nbconvert_exporter": "python",
   "pygments_lexer": "ipython3",
   "version": "3.9.12"
  }
 },
 "nbformat": 4,
 "nbformat_minor": 5
}
