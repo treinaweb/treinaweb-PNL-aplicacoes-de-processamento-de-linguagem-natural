{
 "cells": [
  {
   "cell_type": "code",
   "execution_count": 1,
   "id": "bf389273",
   "metadata": {},
   "outputs": [
    {
     "name": "stdout",
     "output_type": "stream",
     "text": [
      "Requirement already satisfied: google-trans-new in c:\\users\\rodri\\anaconda3\\lib\\site-packages (1.1.9)\n"
     ]
    }
   ],
   "source": [
    "!pip install google-trans-new"
   ]
  },
  {
   "cell_type": "code",
   "execution_count": 10,
   "id": "c8191873",
   "metadata": {},
   "outputs": [],
   "source": [
    "from google_trans_new import google_translator"
   ]
  },
  {
   "cell_type": "code",
   "execution_count": 11,
   "id": "8af08e66",
   "metadata": {},
   "outputs": [],
   "source": [
    "tradutor = google_translator()"
   ]
  },
  {
   "cell_type": "code",
   "execution_count": 12,
   "id": "b024f13f",
   "metadata": {},
   "outputs": [
    {
     "ename": "google_new_transError",
     "evalue": "404 (Not Found) from TTS API. Probable cause: Unknown",
     "output_type": "error",
     "traceback": [
      "\u001b[1;31m---------------------------------------------------------------------------\u001b[0m",
      "\u001b[1;31mHTTPError\u001b[0m                                 Traceback (most recent call last)",
      "File \u001b[1;32m~\\anaconda3\\lib\\site-packages\\google_trans_new\\google_trans_new.py:189\u001b[0m, in \u001b[0;36mgoogle_translator.translate\u001b[1;34m(self, text, lang_tgt, lang_src, pronounce)\u001b[0m\n\u001b[0;32m    188\u001b[0m                 \u001b[38;5;28;01mraise\u001b[39;00m e\n\u001b[1;32m--> 189\u001b[0m     \u001b[43mr\u001b[49m\u001b[38;5;241;43m.\u001b[39;49m\u001b[43mraise_for_status\u001b[49m\u001b[43m(\u001b[49m\u001b[43m)\u001b[49m\n\u001b[0;32m    190\u001b[0m \u001b[38;5;28;01mexcept\u001b[39;00m requests\u001b[38;5;241m.\u001b[39mexceptions\u001b[38;5;241m.\u001b[39mConnectTimeout \u001b[38;5;28;01mas\u001b[39;00m e:\n",
      "File \u001b[1;32m~\\anaconda3\\lib\\site-packages\\requests\\models.py:960\u001b[0m, in \u001b[0;36mResponse.raise_for_status\u001b[1;34m(self)\u001b[0m\n\u001b[0;32m    959\u001b[0m \u001b[38;5;28;01mif\u001b[39;00m http_error_msg:\n\u001b[1;32m--> 960\u001b[0m     \u001b[38;5;28;01mraise\u001b[39;00m HTTPError(http_error_msg, response\u001b[38;5;241m=\u001b[39m\u001b[38;5;28mself\u001b[39m)\n",
      "\u001b[1;31mHTTPError\u001b[0m: 404 Client Error: Not Found for url: https://translate.google.cn/_/TranslateWebserverUi/data/batchexecute",
      "\nDuring handling of the above exception, another exception occurred:\n",
      "\u001b[1;31mgoogle_new_transError\u001b[0m                     Traceback (most recent call last)",
      "Input \u001b[1;32mIn [12]\u001b[0m, in \u001b[0;36m<cell line: 1>\u001b[1;34m()\u001b[0m\n\u001b[1;32m----> 1\u001b[0m traducao \u001b[38;5;241m=\u001b[39m \u001b[43mtradutor\u001b[49m\u001b[38;5;241;43m.\u001b[39;49m\u001b[43mtranslate\u001b[49m\u001b[43m(\u001b[49m\u001b[38;5;124;43m'\u001b[39;49m\u001b[38;5;124;43mEstamos aprendendo PLN\u001b[39;49m\u001b[38;5;124;43m'\u001b[39;49m\u001b[43m,\u001b[49m\u001b[43m \u001b[49m\u001b[43mlang_tgt\u001b[49m\u001b[38;5;241;43m=\u001b[39;49m\u001b[38;5;124;43m'\u001b[39;49m\u001b[38;5;124;43men\u001b[39;49m\u001b[38;5;124;43m'\u001b[39;49m\u001b[43m)\u001b[49m\n",
      "File \u001b[1;32m~\\anaconda3\\lib\\site-packages\\google_trans_new\\google_trans_new.py:194\u001b[0m, in \u001b[0;36mgoogle_translator.translate\u001b[1;34m(self, text, lang_tgt, lang_src, pronounce)\u001b[0m\n\u001b[0;32m    191\u001b[0m     \u001b[38;5;28;01mraise\u001b[39;00m e\n\u001b[0;32m    192\u001b[0m \u001b[38;5;28;01mexcept\u001b[39;00m requests\u001b[38;5;241m.\u001b[39mexceptions\u001b[38;5;241m.\u001b[39mHTTPError \u001b[38;5;28;01mas\u001b[39;00m e:\n\u001b[0;32m    193\u001b[0m     \u001b[38;5;66;03m# Request successful, bad response\u001b[39;00m\n\u001b[1;32m--> 194\u001b[0m     \u001b[38;5;28;01mraise\u001b[39;00m google_new_transError(tts\u001b[38;5;241m=\u001b[39m\u001b[38;5;28mself\u001b[39m, response\u001b[38;5;241m=\u001b[39mr)\n\u001b[0;32m    195\u001b[0m \u001b[38;5;28;01mexcept\u001b[39;00m requests\u001b[38;5;241m.\u001b[39mexceptions\u001b[38;5;241m.\u001b[39mRequestException \u001b[38;5;28;01mas\u001b[39;00m e:\n\u001b[0;32m    196\u001b[0m     \u001b[38;5;66;03m# Request failed\u001b[39;00m\n\u001b[0;32m    197\u001b[0m     \u001b[38;5;28;01mraise\u001b[39;00m google_new_transError(tts\u001b[38;5;241m=\u001b[39m\u001b[38;5;28mself\u001b[39m)\n",
      "\u001b[1;31mgoogle_new_transError\u001b[0m: 404 (Not Found) from TTS API. Probable cause: Unknown"
     ]
    }
   ],
   "source": [
    "traducao = tradutor.translate('Estamos aprendendo PLN', lang_tgt='en')"
   ]
  },
  {
   "cell_type": "code",
   "execution_count": 5,
   "id": "746fb9be",
   "metadata": {},
   "outputs": [
    {
     "ename": "NameError",
     "evalue": "name 'traducao' is not defined",
     "output_type": "error",
     "traceback": [
      "\u001b[1;31m---------------------------------------------------------------------------\u001b[0m",
      "\u001b[1;31mNameError\u001b[0m                                 Traceback (most recent call last)",
      "Input \u001b[1;32mIn [5]\u001b[0m, in \u001b[0;36m<cell line: 1>\u001b[1;34m()\u001b[0m\n\u001b[1;32m----> 1\u001b[0m \u001b[43mtraducao\u001b[49m\n",
      "\u001b[1;31mNameError\u001b[0m: name 'traducao' is not defined"
     ]
    }
   ],
   "source": [
    "traducao"
   ]
  },
  {
   "cell_type": "code",
   "execution_count": null,
   "id": "42ae16f9",
   "metadata": {},
   "outputs": [],
   "source": []
  }
 ],
 "metadata": {
  "kernelspec": {
   "display_name": "Python 3 (ipykernel)",
   "language": "python",
   "name": "python3"
  },
  "language_info": {
   "codemirror_mode": {
    "name": "ipython",
    "version": 3
   },
   "file_extension": ".py",
   "mimetype": "text/x-python",
   "name": "python",
   "nbconvert_exporter": "python",
   "pygments_lexer": "ipython3",
   "version": "3.9.12"
  }
 },
 "nbformat": 4,
 "nbformat_minor": 5
}
